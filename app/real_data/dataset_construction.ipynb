{
 "cells": [
  {
   "cell_type": "code",
   "execution_count": 17,
   "metadata": {},
   "outputs": [
    {
     "name": "stdout",
     "output_type": "stream",
     "text": [
      "{'encoding': 'Windows-1252', 'confidence': 0.73, 'language': ''}\n"
     ]
    }
   ],
   "source": [
    "import chardet\n",
    "\n",
    "# Detect encoding\n",
    "with open('LLCP2022.xpt', 'rb') as f:\n",
    "    result = chardet.detect(f.read(10000))  # Check the first 10,000 bytes\n",
    "    print(result)"
   ]
  },
  {
   "cell_type": "code",
   "execution_count": null,
   "metadata": {},
   "outputs": [
    {
     "name": "stdout",
     "output_type": "stream",
     "text": [
      "Conversion to CSV completed!\n"
     ]
    }
   ],
   "source": [
    "import pandas as pd\n",
    "import pyreadstat\n",
    "\n",
    "chunk_size = 1000 \n",
    "row_offset = 0\n",
    "output_file = 'LLCP2022.csv'\n",
    "encoding = 'windows-1252'\n",
    " \n",
    "with open(output_file, 'w', encoding='utf-8') as f_out:\n",
    "    while True:\n",
    "        # Read a chunk of data with specified offset and limit\n",
    "        df, meta = pyreadstat.read_xport('LLCP2022.xpt', encoding=encoding, row_offset=row_offset, row_limit=chunk_size)\n",
    "        \n",
    "        # Break the loop if no more rows are available\n",
    "        if df.empty:\n",
    "            break\n",
    "        \n",
    "        # Write header only for the first chunk\n",
    "        df.to_csv(f_out, mode='a', index=False, header=(row_offset == 0), encoding='utf-8')\n",
    "        \n",
    "        # Update the offset for the next chunk\n",
    "        row_offset += chunk_size\n",
    "\n",
    "print(\"Conversion to CSV completed!\")"
   ]
  },
  {
   "cell_type": "markdown",
   "metadata": {},
   "source": [
    "Filtering columns to keep only the relevant ones"
   ]
  },
  {
   "cell_type": "code",
   "execution_count": 42,
   "metadata": {},
   "outputs": [],
   "source": [
    "import pandas as pd\n",
    "\n",
    "# The columns you want to keep\n",
    "columns_to_keep = ['SEXVAR', 'SLEPTIM1', 'CVDINFR4', 'CVDCRHD4', 'ASTHMA3', 'CHCOCNC1', 'CHCCOPD3', 'ADDEPEV3', 'CHCKDNY2', 'DIABETE4', 'WEIGHT2',\n",
    "                    'HEIGHT3', 'DEAF', 'BLIND', 'DIFFWALK', 'SMOKDAY2', 'HPVADVC4', 'COPDSMOK', 'LSATISFY', 'SDHSTRE1', 'RRCLASS3']  "
   ]
  },
  {
   "cell_type": "code",
   "execution_count": 43,
   "metadata": {},
   "outputs": [
    {
     "name": "stdout",
     "output_type": "stream",
     "text": [
      "Number of rows: 445132\n"
     ]
    }
   ],
   "source": [
    "# Load only the specified columns from the large CSV\n",
    "df = pd.read_csv('LLCP2022.csv', usecols=columns_to_keep)\n",
    "print(\"Number of rows:\", len(df))"
   ]
  },
  {
   "cell_type": "code",
   "execution_count": 44,
   "metadata": {},
   "outputs": [],
   "source": [
    "df.rename(columns={'SEXVAR':'sex', 'SLEPTIM1':'avg_sleep_time', 'CVDINFR4':'heart_attack_evr', 'CVDCRHD4':'heart_disease', 'ASTHMA3':'asthma_ever',\n",
    "                    'CHCOCNC1':'any_cancer', 'CHCCOPD3':'plumonary_disease', 'ADDEPEV3':'depressive_disorder', 'CHCKDNY2':'kidney_disease', 'DIABETE4':'has_diabetes', \n",
    "                    'WEIGHT2':'weight', 'HEIGHT3':'height', 'DEAF':\"is_deaf\", 'BLIND':\"is_blind\", 'DIFFWALK':'any_walk_difficulty', 'SMOKDAY2':'smoke_habit', \n",
    "                    'HPVADVC4':'hpv_vaccin', 'COPDSMOK':'no_smoking_years', 'LSATISFY':'life_satisfaction', 'SDHSTRE1':'stress_level', 'RRCLASS3':'race'}, inplace=True)"
   ]
  },
  {
   "cell_type": "code",
   "execution_count": 45,
   "metadata": {},
   "outputs": [
    {
     "name": "stdout",
     "output_type": "stream",
     "text": [
      "sex                         0\n",
      "avg_sleep_time              3\n",
      "heart_attack_evr            4\n",
      "heart_disease               2\n",
      "asthma_ever                 2\n",
      "any_cancer                  3\n",
      "plumonary_disease           2\n",
      "depressive_disorder         7\n",
      "kidney_disease              2\n",
      "has_diabetes                3\n",
      "weight                  15901\n",
      "height                  17055\n",
      "is_deaf                 18644\n",
      "is_blind                19855\n",
      "any_walk_difficulty     22155\n",
      "smoke_habit            281079\n",
      "hpv_vaccin             437786\n",
      "no_smoking_years       437917\n",
      "life_satisfaction      190644\n",
      "stress_level           193921\n",
      "race                   283394\n",
      "dtype: int64\n"
     ]
    }
   ],
   "source": [
    "print(df.isnull().sum())"
   ]
  },
  {
   "cell_type": "markdown",
   "metadata": {},
   "source": [
    "Take each column separately:  <br>  <t> - drop rows with null values <br>\n",
    "                                    <tab> - update missing values <br>\n",
    "                                    <tab> - uncode some complex values <br>\n",
    "                                    <tab> - drop if not relevant <br>"
   ]
  },
  {
   "cell_type": "code",
   "execution_count": 46,
   "metadata": {},
   "outputs": [],
   "source": [
    "#avg_sleep_time (1 - 24\tNumber of hours // 77 Don’t know/Not Sure\t// 99\tRefused)\n",
    "df[\"avg_sleep_time\"].fillna(df[\"avg_sleep_time\"].mean(), inplace = True)\n",
    "df[\"avg_sleep_time\"].replace(77, df[\"avg_sleep_time\"].mean(), inplace = True)\n",
    "df[\"avg_sleep_time\"].replace(99, df[\"avg_sleep_time\"].mean(), inplace = True)"
   ]
  },
  {
   "cell_type": "code",
   "execution_count": null,
   "metadata": {},
   "outputs": [],
   "source": [
    "#heart_attack_evr (1 Yes   //   2 No   //   7 Don’t know/Not sure\t//   9\tRefused )\n",
    "#will treat null, don't know and refused as a single category with value 7 -> no answer\n",
    "df['heart_attack_evr'].fillna(7, inplace = True)\n",
    "df['heart_attack_evr'].replace(9, 7, inplace=True)"
   ]
  },
  {
   "cell_type": "code",
   "execution_count": 51,
   "metadata": {},
   "outputs": [],
   "source": [
    "#heart_disease  (1 Yes\t //   2 No\t  //  7 Don’t know/Not sure\t  //  9\t  Refused)\n",
    "#same as heart attack\n",
    "df['heart_disease'].fillna(7, inplace = True)\n",
    "df['heart_disease'].replace(9, 7, inplace=True)"
   ]
  },
  {
   "cell_type": "code",
   "execution_count": null,
   "metadata": {},
   "outputs": [],
   "source": [
    "#asthma_ever (1 Yes\t //   2 No\t  //  7 Don’t know/Not sure\t  //  9\t  Refused )\n",
    "df['asthma_ever'].fillna(7, inplace = True)\n",
    "df['asthma_ever'].replace(9, 7, inplace=True)"
   ]
  },
  {
   "cell_type": "code",
   "execution_count": 52,
   "metadata": {},
   "outputs": [],
   "source": [
    "#any_cancer (1 Yes\t //   2 No\t  //  7 Don’t know/Not sure\t  //  9\t  Refused )\n",
    "df['any_cancer'].fillna(7, inplace = True)\n",
    "df['any_cancer'].replace(9, 7, inplace=True)"
   ]
  },
  {
   "cell_type": "code",
   "execution_count": 56,
   "metadata": {},
   "outputs": [],
   "source": [
    "#plumonary_disease  (1 Yes\t //   2 No\t  //  7 Don’t know/Not sure\t  //  9\t  Refused )\n",
    "df['plumonary_disease'].fillna(7, inplace = True)\n",
    "df['plumonary_disease'].replace(9, 7, inplace=True)"
   ]
  },
  {
   "cell_type": "code",
   "execution_count": 57,
   "metadata": {},
   "outputs": [],
   "source": [
    "#depressive_disorder  (1 Yes\t //   2 No\t  //  7 Don’t know/Not sure\t  //  9\t  Refused )\n",
    "df['depressive_disorder'].fillna(7, inplace = True)\n",
    "df['depressive_disorder'].replace(9, 7, inplace=True)"
   ]
  },
  {
   "cell_type": "code",
   "execution_count": 58,
   "metadata": {},
   "outputs": [],
   "source": [
    "#kidney_disease  (1 Yes\t //   2 No\t  //  7 Don’t know/Not sure\t  //  9\t  Refused )\n",
    "df['kidney_disease'].fillna(7, inplace = True)\n",
    "df['kidney_disease'].replace(9, 7, inplace=True)"
   ]
  },
  {
   "cell_type": "code",
   "execution_count": 60,
   "metadata": {},
   "outputs": [],
   "source": [
    "#has_diabetes (1\tYes\t// 2\tYes, but female told only during pregnancy //3\tNo // 4\tNo, pre-diabetes or borderline diabetes //7\tDon’t know/Not Sure //9\tRefused )\n",
    "#drop rows with null, 7 or 9 values\n",
    "df= df.dropna(subset=['has_diabetes'])\n",
    "df = df[df.has_diabetes != 7]\n",
    "df = df[df.has_diabetes != 9]\n",
    "# prediabetes, borderline and pregnancy dibaetes will be replaced by no so\n",
    "# // it will be 1 for YES and 2 for NO\n",
    "df['has_diabetes'].replace(3,2, inplace=True)\n",
    "df['has_diabetes'].replace(4,2, inplace=True)"
   ]
  },
  {
   "cell_type": "code",
   "execution_count": 73,
   "metadata": {},
   "outputs": [],
   "source": [
    "#weight ( 50 - 0776\tWeight (pounds) 0 _ _ _ = weight in pounds\t//     7777\tDon’t know/Not sure\t     // \n",
    "#      9023 - 9352\tWeight (kilograms) The initial ´9´ indicates this was a metric value.  \t//   9999\tRefused)\n",
    "\n",
    "# Convert pounds to kilograms\n",
    "df.loc[(df['weight'] >= 50) & (df['weight'] <= 776), 'weight'] = df['weight'] * 0.453592\n",
    "\n",
    "# Remove the '9' at the start for kilograms\n",
    "df.loc[(df['weight'] >= 9023) & (df['weight'] <= 9352), 'weight'] = df['weight'] - 9000\n",
    "\n",
    "# null, don't know and refused -> no answer 7777\n",
    "df['weight'].fillna(7777, inplace = True)\n",
    "df['weight'].replace(9999,7777, inplace=True)"
   ]
  },
  {
   "cell_type": "code",
   "execution_count": 72,
   "metadata": {},
   "outputs": [],
   "source": [
    "#height ( 200 - 711\tHeight (ft/inches) 0 _ / _ _ = feet / inches\t//     7777\tDon’t know/Not sure\t     // \n",
    "#      9061 - 9998\tHeight (meters/centimeters) The initial ´9 ´ indicates this was a metric value.\t//   9999\tRefused)\n",
    "\n",
    "#pounds to cm\n",
    "df.loc[(df['height'] >= 200) & (df['height'] <= 711), 'height'] =  ((df['height'] // 100) * 30.48) + ((df['height'] % 100) * 2.54)\n",
    "\n",
    "# Remove the '9' at the start for cm\n",
    "df.loc[(df['height'] >= 9061) & (df['height'] <= 9998), 'height'] = df['height'] - 9000\n",
    "\n",
    "# null, don't know and refused -> no answer 7777\n",
    "df['height'].fillna(7777, inplace = True)\n",
    "df['height'].replace(9999,7777, inplace=True)"
   ]
  },
  {
   "cell_type": "code",
   "execution_count": 63,
   "metadata": {},
   "outputs": [],
   "source": [
    "#deaf/hearing difficulties (1\tYes\t// 2\tNo\t// 7\tDon’t know/Not Sure\t// 9\tRefused)\n",
    "\n",
    "#keep  1\tYes\t// 2\tNo\t// 7\tno answer\n",
    "df['is_deaf'].fillna(7, inplace = True)\n",
    "df['is_deaf'].replace(9, 7, inplace=True)"
   ]
  },
  {
   "cell_type": "code",
   "execution_count": 71,
   "metadata": {},
   "outputs": [],
   "source": [
    "#blind/seeing difficulties (1\tYes\t// 2\tNo\t// 7\tDon’t know/Not Sure\t// 9\tRefused)\n",
    "\n",
    "#keep  1\tYes\t// 2\tNo\t// 7\tno answer\n",
    "df['is_blind'].fillna(7, inplace = True)\n",
    "df['is_blind'].replace(9, 7, inplace=True)"
   ]
  },
  {
   "cell_type": "code",
   "execution_count": 70,
   "metadata": {},
   "outputs": [],
   "source": [
    "#any_walk_difficulty (1\tYes\t// 2\tNo\t// 7\tDon’t know/Not Sure\t// 9\tRefused)\n",
    "\n",
    "#keep  1\tYes\t// 2\tNo\t// 7\tno answer\n",
    "df['any_walk_difficulty'].fillna(7, inplace = True)\n",
    "df['any_walk_difficulty'].replace(9, 7, inplace=True)"
   ]
  },
  {
   "cell_type": "code",
   "execution_count": 74,
   "metadata": {},
   "outputs": [
    {
     "name": "stdout",
     "output_type": "stream",
     "text": [
      "sex                    0\n",
      "avg_sleep_time         0\n",
      "heart_attack_evr       0\n",
      "heart_disease          0\n",
      "asthma_ever            0\n",
      "any_cancer             0\n",
      "plumonary_disease      0\n",
      "depressive_disorder    0\n",
      "kidney_disease         0\n",
      "has_diabetes           0\n",
      "weight                 0\n",
      "height                 0\n",
      "is_deaf                0\n",
      "is_blind               0\n",
      "any_walk_difficulty    0\n",
      "dtype: int64\n"
     ]
    }
   ],
   "source": [
    "print(df.isnull().sum())"
   ]
  },
  {
   "cell_type": "code",
   "execution_count": 64,
   "metadata": {},
   "outputs": [],
   "source": [
    "#will drop the other columns because they have too many missing values\n",
    "df.drop(['smoke_habit', 'hpv_vaccin', 'no_smoking_years','life_satisfaction','stress_level','race'], axis=1, inplace=True)"
   ]
  },
  {
   "cell_type": "code",
   "execution_count": 79,
   "metadata": {},
   "outputs": [
    {
     "name": "stdout",
     "output_type": "stream",
     "text": [
      "Number of rows: 444045\n"
     ]
    }
   ],
   "source": [
    "print(\"Number of rows:\", len(df))"
   ]
  },
  {
   "cell_type": "code",
   "execution_count": 77,
   "metadata": {},
   "outputs": [],
   "source": [
    "# Save to a new CSV file\n",
    "filename = 'LLCP2022_filtered.csv'\n",
    "import os\n",
    "if os.path.exists(filename):\n",
    "    os.remove(filename)\n",
    "df.to_csv(filename, index=False, encoding='utf-8')"
   ]
  },
  {
   "cell_type": "code",
   "execution_count": 78,
   "metadata": {},
   "outputs": [
    {
     "name": "stdout",
     "output_type": "stream",
     "text": [
      "sex                    0\n",
      "avg_sleep_time         0\n",
      "heart_attack_evr       0\n",
      "heart_disease          0\n",
      "asthma_ever            0\n",
      "any_cancer             0\n",
      "plumonary_disease      0\n",
      "depressive_disorder    0\n",
      "kidney_disease         0\n",
      "has_diabetes           0\n",
      "weight                 0\n",
      "height                 0\n",
      "is_deaf                0\n",
      "is_blind               0\n",
      "any_walk_difficulty    0\n",
      "dtype: int64\n"
     ]
    }
   ],
   "source": [
    "data = pd.read_csv('LLCP2022_filtered.csv')\n",
    "print(data.isnull().sum())"
   ]
  },
  {
   "cell_type": "code",
   "execution_count": null,
   "metadata": {},
   "outputs": [
    {
     "name": "stdout",
     "output_type": "stream",
     "text": [
      "61158\n"
     ]
    }
   ],
   "source": [
    "import pandas as pd\n",
    "data = pd.read_csv('LLCP2022_filtered.csv')"
   ]
  },
  {
   "cell_type": "code",
   "execution_count": 5,
   "metadata": {},
   "outputs": [
    {
     "name": "stdout",
     "output_type": "stream",
     "text": [
      "has diabetes:  61158\n",
      "dos not have dibaetes:  382887\n"
     ]
    }
   ],
   "source": [
    "print(\"has diabetes: \", data[\"has_diabetes\"].value_counts()[1])\n",
    "print(\"dos not have dibaetes: \", data[\"has_diabetes\"].value_counts()[2])"
   ]
  }
 ],
 "metadata": {
  "kernelspec": {
   "display_name": "Python 3",
   "language": "python",
   "name": "python3"
  },
  "language_info": {
   "codemirror_mode": {
    "name": "ipython",
    "version": 3
   },
   "file_extension": ".py",
   "mimetype": "text/x-python",
   "name": "python",
   "nbconvert_exporter": "python",
   "pygments_lexer": "ipython3",
   "version": "3.11.8"
  }
 },
 "nbformat": 4,
 "nbformat_minor": 2
}
